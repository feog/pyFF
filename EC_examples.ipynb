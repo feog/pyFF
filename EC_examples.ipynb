{
 "cells": [
  {
   "cell_type": "markdown",
   "metadata": {},
   "source": [
    "Erasure Codes\n",
    "--\n",
    "Provides a few basic functionalities for coding theory. \n",
    "A linear $(n,k)$ code over $\\mathbb{F}_q$ is defined by either a generator matrix or a parity check matrix.\n",
    "This is because a linear $(n,k)$ code is a subspace of dimension $k$ in $\\mathbb{F}_q^n$, it is defined by a choice of a basis, $k$ vectors as rows of a matrix $G$ called generator matrix. The code could also be described as the kernel of some linear map, whose representation in a basis is a parity check matrix $H$.\n",
    "\n",
    "$G$ is said to be in systematic (standard) form if there is a $k$-dimensional identity matrix as the first $k\\times k$ block of $G$."
   ]
  },
  {
   "cell_type": "code",
   "execution_count": 1,
   "metadata": {},
   "outputs": [],
   "source": [
    "#import FF for finite fields, FFPoly for polynomials\n",
    "#FFMat for matrices over finite fieds and EC for erasure codes\n",
    "from pyff import FF, FFPoly, FFMat, EC"
   ]
  },
  {
   "cell_type": "markdown",
   "metadata": {},
   "source": [
    "The first example is the tetracode, knowing a generator matrix."
   ]
  },
  {
   "cell_type": "code",
   "execution_count": 3,
   "metadata": {},
   "outputs": [
    {
     "name": "stdout",
     "output_type": "stream",
     "text": [
      "(4, 2)\n",
      "generator matrix\n"
     ]
    },
    {
     "data": {
      "text/html": [
       "<table><tr><td>1</td><td>0</td><td>1</td><td>1</td></tr><tr><td>0</td><td>1</td><td>1</td><td>2</td></tr></table>"
      ],
      "text/plain": [
       "<IPython.core.display.HTML object>"
      ]
     },
     "metadata": {},
     "output_type": "display_data"
    },
    {
     "name": "stdout",
     "output_type": "stream",
     "text": [
      "parity check matrix\n"
     ]
    },
    {
     "data": {
      "text/html": [
       "<table><tr><td>2</td><td>2</td><td>1</td><td>0</td></tr><tr><td>2</td><td>1</td><td>0</td><td>1</td></tr></table>"
      ],
      "text/plain": [
       "<IPython.core.display.HTML object>"
      ]
     },
     "metadata": {},
     "output_type": "display_data"
    },
    {
     "name": "stdout",
     "output_type": "stream",
     "text": [
      "parity check matrix in systematic form\n"
     ]
    },
    {
     "data": {
      "text/html": [
       "<table><tr><td>1</td><td>0</td><td>1</td><td>1</td></tr><tr><td>0</td><td>1</td><td>1</td><td>2</td></tr></table>"
      ],
      "text/plain": [
       "<IPython.core.display.HTML object>"
      ]
     },
     "metadata": {},
     "output_type": "display_data"
    },
    {
     "name": "stdout",
     "output_type": "stream",
     "text": [
      "Minimum distance\n",
      "3\n",
      "(9, True)\n"
     ]
    }
   ],
   "source": [
    "#defines the finite\n",
    "F3 = FF(3,1)\n",
    "#suppose we know a generator matrix, then we create the code and tell the input is a generator matrix ('G')\n",
    "#this creates the corresponding code\n",
    "#the matrix is given as a list of lists\n",
    "tetracode = EC(F3,[[1,0,1,1],[0,1,1,-1]],'G')\n",
    "#computes the length n and the dimension k\n",
    "print(tetracode.length,tetracode.dim)\n",
    "#computes and displays a generator matrix in systematic (standard) form\n",
    "print('generator matrix')\n",
    "tetracode.generator_matrix.display()\n",
    "#computes and displays the corresponding parity check matrix\n",
    "print('parity check matrix')\n",
    "tetracode.parity_check_matrix.display()\n",
    "#it is possible to put this matrix into systematic form too, which gives a generator matrix of the dual\n",
    "print('parity check matrix in systematic form')\n",
    "tetracode.systematic_form(tetracode.parity_check_matrix.coeffs).display()\n",
    "#computes the minimum distance\n",
    "print('Minimum distance')\n",
    "print(tetracode.minimum_distance())\n",
    "#decides whether the code is perfect, the first input is the value of the Sphere Packing Bound\n",
    "spb,is_perfect=tetracode.is_perfect()\n",
    "print(spb,is_perfect)"
   ]
  },
  {
   "cell_type": "markdown",
   "metadata": {},
   "source": [
    "Example 2: creates a random binary code from a random generator matrix."
   ]
  },
  {
   "cell_type": "code",
   "execution_count": 4,
   "metadata": {},
   "outputs": [
    {
     "name": "stdout",
     "output_type": "stream",
     "text": [
      "random matrix\n"
     ]
    },
    {
     "data": {
      "text/html": [
       "<table><tr><td>0</td><td>1</td><td>0</td><td>1</td><td>0</td><td>1</td><td>0</td></tr><tr><td>0</td><td>0</td><td>0</td><td>0</td><td>0</td><td>0</td><td>1</td></tr><tr><td>1</td><td>1</td><td>0</td><td>1</td><td>0</td><td>1</td><td>1</td></tr></table>"
      ],
      "text/plain": [
       "<IPython.core.display.HTML object>"
      ]
     },
     "metadata": {},
     "output_type": "display_data"
    },
    {
     "name": "stdout",
     "output_type": "stream",
     "text": [
      "(7, 3)\n",
      "systematic generator matrix\n"
     ]
    },
    {
     "data": {
      "text/html": [
       "<table><tr><td>1</td><td>0</td><td>0</td><td>0</td><td>0</td><td>0</td><td>0</td></tr><tr><td>0</td><td>1</td><td>0</td><td>1</td><td>0</td><td>1</td><td>0</td></tr><tr><td>0</td><td>0</td><td>1</td><td>0</td><td>0</td><td>0</td><td>0</td></tr></table>"
      ],
      "text/plain": [
       "<IPython.core.display.HTML object>"
      ]
     },
     "metadata": {},
     "output_type": "display_data"
    },
    {
     "name": "stdout",
     "output_type": "stream",
     "text": [
      "parity check matrix\n"
     ]
    },
    {
     "data": {
      "text/html": [
       "<table><tr><td>0</td><td>1</td><td>0</td><td>1</td><td>0</td><td>0</td><td>0</td></tr><tr><td>0</td><td>0</td><td>0</td><td>0</td><td>1</td><td>0</td><td>0</td></tr><tr><td>0</td><td>1</td><td>0</td><td>0</td><td>0</td><td>1</td><td>0</td></tr><tr><td>0</td><td>0</td><td>0</td><td>0</td><td>0</td><td>0</td><td>1</td></tr></table>"
      ],
      "text/plain": [
       "<IPython.core.display.HTML object>"
      ]
     },
     "metadata": {},
     "output_type": "display_data"
    },
    {
     "data": {
      "text/html": [
       "<table><tr><td>0</td><td>0</td><td>0</td></tr><tr><td>0</td><td>0</td><td>0</td></tr><tr><td>0</td><td>0</td><td>0</td></tr><tr><td>0</td><td>0</td><td>0</td></tr></table>"
      ],
      "text/plain": [
       "<IPython.core.display.HTML object>"
      ]
     },
     "metadata": {},
     "output_type": "display_data"
    },
    {
     "name": "stdout",
     "output_type": "stream",
     "text": [
      "Minimum distance\n",
      "1\n",
      "(128, False)\n"
     ]
    }
   ],
   "source": [
    "F2 = FF(2,1)\n",
    "#creates a random matrix\n",
    "R = F2.rand_matrix(3,7)\n",
    "print('random matrix')\n",
    "R.display()\n",
    "#here the input is an FFMat instance, this works too.\n",
    "#since the input is random, it is possible the matrix has row linearly dependent, \n",
    "#in which case they will be removed.\n",
    "EC_rand = EC(F2,R.coeffs,'G')\n",
    "G = EC_rand.generator_matrix\n",
    "print(EC_rand.length,EC_rand.dim)\n",
    "print('systematic generator matrix')\n",
    "G.display()\n",
    "H = EC_rand.parity_check_matrix\n",
    "print('parity check matrix')\n",
    "H.display()\n",
    "#check that G is indeed the kernel of H\n",
    "H.mult(G.transpose()).display()\n",
    "print('Minimum distance')\n",
    "print(EC_rand.minimum_distance())\n",
    "spb,is_perfect=EC_rand.is_perfect()\n",
    "print(spb,is_perfect)"
   ]
  },
  {
   "cell_type": "markdown",
   "metadata": {},
   "source": [
    "Example 3: this time a code is created using a parity check matrix."
   ]
  },
  {
   "cell_type": "code",
   "execution_count": 5,
   "metadata": {},
   "outputs": [
    {
     "data": {
      "text/html": [
       "<table><tr><td>0</td><td>0</td><td>0</td><td>1</td><td>1</td><td>1</td><td>1</td></tr><tr><td>0</td><td>1</td><td>1</td><td>0</td><td>0</td><td>1</td><td>1</td></tr><tr><td>1</td><td>0</td><td>1</td><td>0</td><td>1</td><td>0</td><td>1</td></tr></table>"
      ],
      "text/plain": [
       "<IPython.core.display.HTML object>"
      ]
     },
     "metadata": {},
     "output_type": "display_data"
    },
    {
     "name": "stdout",
     "output_type": "stream",
     "text": [
      "(7, 4)\n",
      "generator matrix\n"
     ]
    },
    {
     "data": {
      "text/html": [
       "<table><tr><td>1</td><td>0</td><td>0</td><td>0</td><td>0</td><td>1</td><td>1</td></tr><tr><td>0</td><td>1</td><td>0</td><td>0</td><td>1</td><td>0</td><td>1</td></tr><tr><td>0</td><td>0</td><td>1</td><td>0</td><td>1</td><td>1</td><td>0</td></tr><tr><td>0</td><td>0</td><td>0</td><td>1</td><td>1</td><td>1</td><td>1</td></tr></table>"
      ],
      "text/plain": [
       "<IPython.core.display.HTML object>"
      ]
     },
     "metadata": {},
     "output_type": "display_data"
    },
    {
     "name": "stdout",
     "output_type": "stream",
     "text": [
      "parity check matrix\n"
     ]
    },
    {
     "data": {
      "text/html": [
       "<table><tr><td>0</td><td>1</td><td>1</td><td>1</td><td>1</td><td>0</td><td>0</td></tr><tr><td>1</td><td>0</td><td>1</td><td>1</td><td>0</td><td>1</td><td>0</td></tr><tr><td>1</td><td>1</td><td>0</td><td>1</td><td>0</td><td>0</td><td>1</td></tr></table>"
      ],
      "text/plain": [
       "<IPython.core.display.HTML object>"
      ]
     },
     "metadata": {},
     "output_type": "display_data"
    },
    {
     "name": "stdout",
     "output_type": "stream",
     "text": [
      "Minimum distance\n"
     ]
    },
    {
     "data": {
      "text/plain": [
       "3"
      ]
     },
     "execution_count": 5,
     "metadata": {},
     "output_type": "execute_result"
    }
   ],
   "source": [
    "F2 = FF(2,1)\n",
    "#creates a parity check matrix\n",
    "H = FFMat(F2,[[0,0,0,1,1,1,1],[0,1,1,0,0,1,1],[1,0,1,0,1,0,1]])\n",
    "#H = FFMat(F2, [[0,1,1],[1,0,1]])\n",
    "H.display()\n",
    "EC_H = EC(F2,H.coeffs,'H')\n",
    "print(EC_H.length,EC_H.dim)\n",
    "#once the code instance is created, so is a systematic generator matrix\n",
    "print('generator matrix')\n",
    "EC_H.generator_matrix.display()\n",
    "#and another parity check matrix, corresponding to the systematic form.\n",
    "print('parity check matrix')\n",
    "EC_H.parity_check_matrix.display()\n",
    "print('Minimum distance')\n",
    "EC_H.minimum_distance()"
   ]
  },
  {
   "cell_type": "markdown",
   "metadata": {},
   "source": [
    "Example 4: Suppose we want a binary Hamming code with $r=4$ (length $2^r-1$)."
   ]
  },
  {
   "cell_type": "code",
   "execution_count": 6,
   "metadata": {},
   "outputs": [
    {
     "name": "stdout",
     "output_type": "stream",
     "text": [
      "generator matrix\n"
     ]
    },
    {
     "data": {
      "text/html": [
       "<table><tr><td>1</td><td>0</td><td>0</td><td>0</td><td>0</td><td>0</td><td>0</td><td>0</td><td>0</td><td>0</td><td>0</td><td>0</td><td>0</td><td>1</td><td>1</td></tr><tr><td>0</td><td>1</td><td>0</td><td>0</td><td>0</td><td>0</td><td>0</td><td>0</td><td>0</td><td>0</td><td>0</td><td>0</td><td>1</td><td>0</td><td>1</td></tr><tr><td>0</td><td>0</td><td>1</td><td>0</td><td>0</td><td>0</td><td>0</td><td>0</td><td>0</td><td>0</td><td>0</td><td>0</td><td>1</td><td>1</td><td>0</td></tr><tr><td>0</td><td>0</td><td>0</td><td>1</td><td>0</td><td>0</td><td>0</td><td>0</td><td>0</td><td>0</td><td>0</td><td>1</td><td>0</td><td>0</td><td>1</td></tr><tr><td>0</td><td>0</td><td>0</td><td>0</td><td>1</td><td>0</td><td>0</td><td>0</td><td>0</td><td>0</td><td>0</td><td>1</td><td>0</td><td>1</td><td>0</td></tr><tr><td>0</td><td>0</td><td>0</td><td>0</td><td>0</td><td>1</td><td>0</td><td>0</td><td>0</td><td>0</td><td>0</td><td>1</td><td>1</td><td>0</td><td>0</td></tr><tr><td>0</td><td>0</td><td>0</td><td>0</td><td>0</td><td>0</td><td>1</td><td>0</td><td>0</td><td>0</td><td>0</td><td>1</td><td>1</td><td>1</td><td>1</td></tr><tr><td>0</td><td>0</td><td>0</td><td>0</td><td>0</td><td>0</td><td>0</td><td>1</td><td>0</td><td>0</td><td>0</td><td>1</td><td>1</td><td>1</td><td>0</td></tr><tr><td>0</td><td>0</td><td>0</td><td>0</td><td>0</td><td>0</td><td>0</td><td>0</td><td>1</td><td>0</td><td>0</td><td>1</td><td>1</td><td>0</td><td>1</td></tr><tr><td>0</td><td>0</td><td>0</td><td>0</td><td>0</td><td>0</td><td>0</td><td>0</td><td>0</td><td>1</td><td>0</td><td>1</td><td>0</td><td>1</td><td>1</td></tr><tr><td>0</td><td>0</td><td>0</td><td>0</td><td>0</td><td>0</td><td>0</td><td>0</td><td>0</td><td>0</td><td>1</td><td>0</td><td>1</td><td>1</td><td>1</td></tr></table>"
      ],
      "text/plain": [
       "<IPython.core.display.HTML object>"
      ]
     },
     "metadata": {},
     "output_type": "display_data"
    },
    {
     "name": "stdout",
     "output_type": "stream",
     "text": [
      "(15, 11)\n",
      "parity check matrix\n"
     ]
    },
    {
     "data": {
      "text/html": [
       "<table><tr><td>0</td><td>0</td><td>0</td><td>1</td><td>1</td><td>1</td><td>1</td><td>1</td><td>1</td><td>1</td><td>0</td><td>1</td><td>0</td><td>0</td><td>0</td></tr><tr><td>0</td><td>1</td><td>1</td><td>0</td><td>0</td><td>1</td><td>1</td><td>1</td><td>1</td><td>0</td><td>1</td><td>0</td><td>1</td><td>0</td><td>0</td></tr><tr><td>1</td><td>0</td><td>1</td><td>0</td><td>1</td><td>0</td><td>1</td><td>1</td><td>0</td><td>1</td><td>1</td><td>0</td><td>0</td><td>1</td><td>0</td></tr><tr><td>1</td><td>1</td><td>0</td><td>1</td><td>0</td><td>0</td><td>1</td><td>0</td><td>1</td><td>1</td><td>1</td><td>0</td><td>0</td><td>0</td><td>1</td></tr></table>"
      ],
      "text/plain": [
       "<IPython.core.display.HTML object>"
      ]
     },
     "metadata": {},
     "output_type": "display_data"
    },
    {
     "name": "stdout",
     "output_type": "stream",
     "text": [
      "Minimum distance\n",
      "3\n"
     ]
    },
    {
     "data": {
      "text/plain": [
       "True"
      ]
     },
     "execution_count": 6,
     "metadata": {},
     "output_type": "execute_result"
    }
   ],
   "source": [
    "F2 = FF(2,1)\n",
    "#to create the Hamming code, we give the option 'name' and then call Hamming_code method\n",
    "Hamm_24 = EC(F2,[],'name').Hamming_code(4)\n",
    "#then the rest is as for every code instance\n",
    "print('generator matrix')\n",
    "Hamm_24.generator_matrix.display()\n",
    "print(Hamm_24.length,Hamm_24.dim)\n",
    "print('parity check matrix')\n",
    "Hamm_24.parity_check_matrix.display()\n",
    "print('Minimum distance')\n",
    "print(Hamm_24.minimum_distance())\n",
    "spb,is_perfect=Hamm_24.is_perfect()\n",
    "is_perfect"
   ]
  },
  {
   "cell_type": "markdown",
   "metadata": {},
   "source": [
    "Example 5: Suppose we know want a ternary Hamming code with $r=3$."
   ]
  },
  {
   "cell_type": "code",
   "execution_count": 7,
   "metadata": {},
   "outputs": [
    {
     "name": "stdout",
     "output_type": "stream",
     "text": [
      "generator matrix\n"
     ]
    },
    {
     "data": {
      "text/html": [
       "<table><tr><td>1</td><td>0</td><td>0</td><td>0</td><td>0</td><td>0</td><td>0</td><td>0</td><td>0</td><td>0</td><td>0</td><td>2</td><td>1</td></tr><tr><td>0</td><td>1</td><td>0</td><td>0</td><td>0</td><td>0</td><td>0</td><td>0</td><td>0</td><td>0</td><td>2</td><td>0</td><td>1</td></tr><tr><td>0</td><td>0</td><td>1</td><td>0</td><td>0</td><td>0</td><td>0</td><td>0</td><td>0</td><td>0</td><td>2</td><td>1</td><td>0</td></tr><tr><td>0</td><td>0</td><td>0</td><td>1</td><td>0</td><td>0</td><td>0</td><td>0</td><td>0</td><td>0</td><td>2</td><td>2</td><td>2</td></tr><tr><td>0</td><td>0</td><td>0</td><td>0</td><td>1</td><td>0</td><td>0</td><td>0</td><td>0</td><td>0</td><td>1</td><td>1</td><td>0</td></tr><tr><td>0</td><td>0</td><td>0</td><td>0</td><td>0</td><td>1</td><td>0</td><td>0</td><td>0</td><td>0</td><td>1</td><td>2</td><td>2</td></tr><tr><td>0</td><td>0</td><td>0</td><td>0</td><td>0</td><td>0</td><td>1</td><td>0</td><td>0</td><td>0</td><td>1</td><td>0</td><td>1</td></tr><tr><td>0</td><td>0</td><td>0</td><td>0</td><td>0</td><td>0</td><td>0</td><td>1</td><td>0</td><td>0</td><td>2</td><td>1</td><td>2</td></tr><tr><td>0</td><td>0</td><td>0</td><td>0</td><td>0</td><td>0</td><td>0</td><td>0</td><td>1</td><td>0</td><td>2</td><td>2</td><td>1</td></tr><tr><td>0</td><td>0</td><td>0</td><td>0</td><td>0</td><td>0</td><td>0</td><td>0</td><td>0</td><td>1</td><td>0</td><td>1</td><td>1</td></tr></table>"
      ],
      "text/plain": [
       "<IPython.core.display.HTML object>"
      ]
     },
     "metadata": {},
     "output_type": "display_data"
    },
    {
     "name": "stdout",
     "output_type": "stream",
     "text": [
      "(13, 10)\n",
      "parity check matrix\n"
     ]
    },
    {
     "data": {
      "text/html": [
       "<table><tr><td>0</td><td>1</td><td>1</td><td>1</td><td>2</td><td>2</td><td>2</td><td>1</td><td>1</td><td>0</td><td>1</td><td>0</td><td>0</td></tr><tr><td>1</td><td>0</td><td>2</td><td>1</td><td>2</td><td>1</td><td>0</td><td>2</td><td>1</td><td>2</td><td>0</td><td>1</td><td>0</td></tr><tr><td>2</td><td>2</td><td>0</td><td>1</td><td>0</td><td>1</td><td>2</td><td>1</td><td>2</td><td>2</td><td>0</td><td>0</td><td>1</td></tr></table>"
      ],
      "text/plain": [
       "<IPython.core.display.HTML object>"
      ]
     },
     "metadata": {},
     "output_type": "display_data"
    },
    {
     "data": {
      "text/plain": [
       "True"
      ]
     },
     "execution_count": 7,
     "metadata": {},
     "output_type": "execute_result"
    }
   ],
   "source": [
    "F3 = FF(3,1)\n",
    "Hamm_33 = EC(F3,[],'name').Hamming_code(3)\n",
    "print('generator matrix')\n",
    "Hamm_33.generator_matrix.display()\n",
    "print(Hamm_33.length,Hamm_33.dim)\n",
    "print('parity check matrix')\n",
    "Hamm_33.parity_check_matrix.display()\n",
    "Hamm_33.minimum_distance()\n",
    "spb,is_perfect=Hamm_33.is_perfect()\n",
    "is_perfect"
   ]
  },
  {
   "cell_type": "markdown",
   "metadata": {},
   "source": [
    "Example 6: a code over $\\mathbb{F}_4$."
   ]
  },
  {
   "cell_type": "code",
   "execution_count": 8,
   "metadata": {},
   "outputs": [
    {
     "name": "stdout",
     "output_type": "stream",
     "text": [
      "(4, 2)\n",
      "generator matrix\n"
     ]
    },
    {
     "data": {
      "text/html": [
       "<table><tr><td>1</td><td>0</td><td>w</td><td>1+w</td></tr><tr><td>0</td><td>1</td><td>1+w</td><td>w</td></tr></table>"
      ],
      "text/plain": [
       "<IPython.core.display.HTML object>"
      ]
     },
     "metadata": {},
     "output_type": "display_data"
    },
    {
     "name": "stdout",
     "output_type": "stream",
     "text": [
      "parity check matrix\n"
     ]
    },
    {
     "data": {
      "text/html": [
       "<table><tr><td>w</td><td>1</td><td>1</td><td>0</td></tr><tr><td>1+w</td><td>1+w</td><td>0</td><td>1</td></tr></table>"
      ],
      "text/plain": [
       "<IPython.core.display.HTML object>"
      ]
     },
     "metadata": {},
     "output_type": "display_data"
    },
    {
     "name": "stdout",
     "output_type": "stream",
     "text": [
      "minimum distance\n",
      "3\n",
      "(19, False)\n"
     ]
    }
   ],
   "source": [
    "F4 = FF(2,2)\n",
    "EC_F4 = EC(F4,[[[1,0],[0,0],[0,1],[1,1]],[[0,0],[1,0],[1,1],[0,1]]],'G')\n",
    "print(EC_F4.length,EC_F4.dim)\n",
    "print('generator matrix')\n",
    "EC_F4.generator_matrix.display()\n",
    "print('parity check matrix')\n",
    "EC_F4.parity_check_matrix.display()\n",
    "print('minimum distance')\n",
    "print(EC_F4.minimum_distance())\n",
    "spb,is_perfect=EC_F4.is_perfect()\n",
    "print(spb,is_perfect)"
   ]
  },
  {
   "cell_type": "markdown",
   "metadata": {},
   "source": [
    "Example 7: suppose we want a simple repetition code."
   ]
  },
  {
   "cell_type": "code",
   "execution_count": 27,
   "metadata": {},
   "outputs": [
    {
     "name": "stdout",
     "output_type": "stream",
     "text": [
      "generator matrix\n"
     ]
    },
    {
     "data": {
      "text/html": [
       "<table><tr><td>1</td><td>1</td><td>1</td><td>1</td><td>1</td></tr></table>"
      ],
      "text/plain": [
       "<IPython.core.display.HTML object>"
      ]
     },
     "metadata": {},
     "output_type": "display_data"
    },
    {
     "name": "stdout",
     "output_type": "stream",
     "text": [
      "(5, 1)\n",
      "parity check matrix\n"
     ]
    },
    {
     "data": {
      "text/html": [
       "<table><tr><td>1</td><td>1</td><td>0</td><td>0</td><td>0</td></tr><tr><td>1</td><td>0</td><td>1</td><td>0</td><td>0</td></tr><tr><td>1</td><td>0</td><td>0</td><td>1</td><td>0</td></tr><tr><td>1</td><td>0</td><td>0</td><td>0</td><td>1</td></tr></table>"
      ],
      "text/plain": [
       "<IPython.core.display.HTML object>"
      ]
     },
     "metadata": {},
     "output_type": "display_data"
    },
    {
     "name": "stdout",
     "output_type": "stream",
     "text": [
      "minimum distance\n",
      "5\n",
      "(2, True)\n"
     ]
    }
   ],
   "source": [
    "F2 = FF(2,1)\n",
    "repetition = EC(F2,[],'name').repetition_code(5)\n",
    "print('generator matrix')\n",
    "repetition.generator_matrix.display()\n",
    "print(repetition.length,repetition.dim)\n",
    "print('parity check matrix')\n",
    "repetition.parity_check_matrix.display()\n",
    "print('minimum distance')\n",
    "print(repetition.minimum_distance())\n",
    "spb,is_perfect = repetition.is_perfect()\n",
    "print(spb,is_perfect)"
   ]
  },
  {
   "cell_type": "markdown",
   "metadata": {},
   "source": [
    "Example 8: suppose we want a ternary parity check code."
   ]
  },
  {
   "cell_type": "code",
   "execution_count": 29,
   "metadata": {},
   "outputs": [
    {
     "name": "stdout",
     "output_type": "stream",
     "text": [
      "generator matrix\n"
     ]
    },
    {
     "data": {
      "text/html": [
       "<table><tr><td>1</td><td>0</td><td>0</td><td>0</td><td>1</td></tr><tr><td>0</td><td>1</td><td>0</td><td>0</td><td>1</td></tr><tr><td>0</td><td>0</td><td>1</td><td>0</td><td>1</td></tr><tr><td>0</td><td>0</td><td>0</td><td>1</td><td>1</td></tr></table>"
      ],
      "text/plain": [
       "<IPython.core.display.HTML object>"
      ]
     },
     "metadata": {},
     "output_type": "display_data"
    },
    {
     "name": "stdout",
     "output_type": "stream",
     "text": [
      "parity check matrix\n",
      "(5, 4)\n",
      "minimum distance\n",
      "2\n"
     ]
    },
    {
     "data": {
      "text/html": [
       "<table><tr><td>2</td><td>2</td><td>2</td><td>2</td><td>1</td></tr></table>"
      ],
      "text/plain": [
       "<IPython.core.display.HTML object>"
      ]
     },
     "metadata": {},
     "output_type": "display_data"
    }
   ],
   "source": [
    "F3 = FF(3,1)\n",
    "paritycheck = EC(F3,[],'name').parity_check_code(5)\n",
    "print('generator matrix')\n",
    "paritycheck.generator_matrix.display()\n",
    "print('parity check matrix')\n",
    "print(paritycheck.length,paritycheck.dim)\n",
    "print('minimum distance')\n",
    "print(paritycheck.minimum_distance())\n",
    "paritycheck.parity_check_matrix.display()"
   ]
  }
 ],
 "metadata": {
  "kernelspec": {
   "display_name": "Python 3",
   "language": "python",
   "name": "python3"
  },
  "language_info": {
   "codemirror_mode": {
    "name": "ipython",
    "version": 2
   },
   "file_extension": ".py",
   "mimetype": "text/x-python",
   "name": "python",
   "nbconvert_exporter": "python",
   "pygments_lexer": "ipython2",
   "version": "2.7.17"
  }
 },
 "nbformat": 4,
 "nbformat_minor": 2
}
