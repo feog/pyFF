{
 "cells": [
  {
   "cell_type": "code",
   "execution_count": 1,
   "metadata": {},
   "outputs": [],
   "source": [
    "#import FF for finite fields, \n",
    "#FFPoly for polynomials over finite fields\n",
    "from pyff import FF, FFPoly"
   ]
  },
  {
   "cell_type": "markdown",
   "metadata": {},
   "source": [
    "Examples over the finite field $\\mathbb{F}_5$\n",
    "--"
   ]
  },
  {
   "cell_type": "code",
   "execution_count": 12,
   "metadata": {},
   "outputs": [],
   "source": [
    "#creates the finite field\n",
    "F5 = FF(5,1)"
   ]
  },
  {
   "cell_type": "code",
   "execution_count": 13,
   "metadata": {},
   "outputs": [
    {
     "data": {
      "text/plain": [
       "5"
      ]
     },
     "execution_count": 13,
     "metadata": {},
     "output_type": "execute_result"
    }
   ],
   "source": [
    "#this is the characteristic\n",
    "F5.char"
   ]
  },
  {
   "cell_type": "code",
   "execution_count": 14,
   "metadata": {},
   "outputs": [
    {
     "data": {
      "text/plain": [
       "5"
      ]
     },
     "execution_count": 14,
     "metadata": {},
     "output_type": "execute_result"
    }
   ],
   "source": [
    "#this is the size\n",
    "F5.size"
   ]
  },
  {
   "cell_type": "code",
   "execution_count": 15,
   "metadata": {},
   "outputs": [
    {
     "data": {
      "text/plain": [
       "0"
      ]
     },
     "execution_count": 15,
     "metadata": {},
     "output_type": "execute_result"
    }
   ],
   "source": [
    "#this creates one element, any integer can be provided as input\n",
    "F5.elt(5)"
   ]
  },
  {
   "cell_type": "code",
   "execution_count": 16,
   "metadata": {},
   "outputs": [
    {
     "data": {
      "text/plain": [
       "2"
      ]
     },
     "execution_count": 16,
     "metadata": {},
     "output_type": "execute_result"
    }
   ],
   "source": [
    "#adds two elements\n",
    "F5.add(5,2)"
   ]
  },
  {
   "cell_type": "code",
   "execution_count": 17,
   "metadata": {},
   "outputs": [
    {
     "data": {
      "text/plain": [
       "3"
      ]
     },
     "execution_count": 17,
     "metadata": {},
     "output_type": "execute_result"
    }
   ],
   "source": [
    "#subtract two elements\n",
    "F5.add(5,-2)"
   ]
  },
  {
   "cell_type": "code",
   "execution_count": 18,
   "metadata": {},
   "outputs": [
    {
     "data": {
      "text/plain": [
       "1"
      ]
     },
     "execution_count": 18,
     "metadata": {},
     "output_type": "execute_result"
    }
   ],
   "source": [
    "#multiplies two elements\n",
    "F5.mult(2,3)"
   ]
  },
  {
   "cell_type": "code",
   "execution_count": 19,
   "metadata": {},
   "outputs": [
    {
     "data": {
      "text/plain": [
       "2"
      ]
     },
     "execution_count": 19,
     "metadata": {},
     "output_type": "execute_result"
    }
   ],
   "source": [
    "#inverts 3\n",
    "F5.inverse_modp(3)"
   ]
  },
  {
   "cell_type": "code",
   "execution_count": 20,
   "metadata": {},
   "outputs": [
    {
     "data": {
      "text/plain": [
       "4"
      ]
     },
     "execution_count": 20,
     "metadata": {},
     "output_type": "execute_result"
    }
   ],
   "source": [
    "#generates a random element\n",
    "F5.randelt()"
   ]
  },
  {
   "cell_type": "code",
   "execution_count": 21,
   "metadata": {},
   "outputs": [
    {
     "data": {
      "text/plain": [
       "'1'"
      ]
     },
     "execution_count": 21,
     "metadata": {},
     "output_type": "execute_result"
    }
   ],
   "source": [
    "#there is no minimal polynomial since F_5 has dimension 1, so it returns the constant polynomial 1\n",
    "F5.minimum_polynomial.display_in_X()"
   ]
  },
  {
   "cell_type": "code",
   "execution_count": 22,
   "metadata": {},
   "outputs": [
    {
     "name": "stdout",
     "output_type": "stream",
     "text": [
      "[1, 2, 4, 3]\n"
     ]
    }
   ],
   "source": [
    "#computes powers of 2\n",
    "print([F5.exp(2,i) for i in range(4)])"
   ]
  },
  {
   "cell_type": "code",
   "execution_count": 23,
   "metadata": {},
   "outputs": [
    {
     "data": {
      "text/plain": [
       "'X^3+2X+1'"
      ]
     },
     "execution_count": 23,
     "metadata": {},
     "output_type": "execute_result"
    }
   ],
   "source": [
    "#creates the polynomial X^3+2X+1 over F5\n",
    "pX = FFPoly(F5,[1,0,2,1])\n",
    "pX.display_in_X()"
   ]
  },
  {
   "cell_type": "code",
   "execution_count": 24,
   "metadata": {},
   "outputs": [
    {
     "name": "stdout",
     "output_type": "stream",
     "text": [
      "X^3+2X+1\n"
     ]
    },
    {
     "data": {
      "text/plain": [
       "3"
      ]
     },
     "execution_count": 24,
     "metadata": {},
     "output_type": "execute_result"
    }
   ],
   "source": [
    "print(pX.display_in_X())\n",
    "#degree of a polynomial\n",
    "pX.deg"
   ]
  },
  {
   "cell_type": "code",
   "execution_count": 25,
   "metadata": {},
   "outputs": [
    {
     "name": "stdout",
     "output_type": "stream",
     "text": [
      "X^3+2X+1\n"
     ]
    },
    {
     "data": {
      "text/plain": [
       "4"
      ]
     },
     "execution_count": 25,
     "metadata": {},
     "output_type": "execute_result"
    }
   ],
   "source": [
    "print(pX.display_in_X())\n",
    "#evaluates the polynomial in 3\n",
    "pX.evaluation(3)"
   ]
  },
  {
   "cell_type": "code",
   "execution_count": 26,
   "metadata": {},
   "outputs": [
    {
     "name": "stdout",
     "output_type": "stream",
     "text": [
      "X^3+2X+1\n"
     ]
    },
    {
     "data": {
      "text/plain": [
       "4"
      ]
     },
     "execution_count": 26,
     "metadata": {},
     "output_type": "execute_result"
    }
   ],
   "source": [
    "print(pX.display_in_X())\n",
    "#evaluates the polynomial, then add an element of F5\n",
    "F5.add(pX.evaluation(2),1)"
   ]
  },
  {
   "cell_type": "code",
   "execution_count": 27,
   "metadata": {},
   "outputs": [
    {
     "name": "stdout",
     "output_type": "stream",
     "text": [
      "X^3+2X+1\n"
     ]
    },
    {
     "data": {
      "text/plain": [
       "'3X^3+X+3'"
      ]
     },
     "execution_count": 27,
     "metadata": {},
     "output_type": "execute_result"
    }
   ],
   "source": [
    "print(pX.display_in_X())\n",
    "#multiplies p by 3\n",
    "pX.mult_by_scalar(3).display_in_X()"
   ]
  },
  {
   "cell_type": "code",
   "execution_count": 28,
   "metadata": {},
   "outputs": [
    {
     "name": "stdout",
     "output_type": "stream",
     "text": [
      "X^3+2X+1\n",
      "X+1\n"
     ]
    },
    {
     "data": {
      "text/plain": [
       "'X^3+3X+2'"
      ]
     },
     "execution_count": 28,
     "metadata": {},
     "output_type": "execute_result"
    }
   ],
   "source": [
    "print(pX.display_in_X())\n",
    "sX = FFPoly(F5,[1,1])\n",
    "print(sX.display_in_X())\n",
    "#to add sX to pX, this returns a polynomial\n",
    "tX = pX.add(sX)\n",
    "tX.display_in_X()"
   ]
  },
  {
   "cell_type": "code",
   "execution_count": 29,
   "metadata": {},
   "outputs": [
    {
     "name": "stdout",
     "output_type": "stream",
     "text": [
      "X^3+2X+1\n",
      "X+1\n"
     ]
    },
    {
     "data": {
      "text/plain": [
       "'X^3+X'"
      ]
     },
     "execution_count": 29,
     "metadata": {},
     "output_type": "execute_result"
    }
   ],
   "source": [
    "print(pX.display_in_X())\n",
    "print(sX.display_in_X())\n",
    "#to subtract sX to pX, this returns a polynomial\n",
    "pX.subtract(sX).display_in_X()"
   ]
  },
  {
   "cell_type": "code",
   "execution_count": 24,
   "metadata": {},
   "outputs": [
    {
     "name": "stdout",
     "output_type": "stream",
     "text": [
      "X^3+2X+1\n",
      "X+1\n"
     ]
    },
    {
     "data": {
      "text/plain": [
       "'X^4+X^3+2X^2+3X+1'"
      ]
     },
     "execution_count": 24,
     "metadata": {},
     "output_type": "execute_result"
    }
   ],
   "source": [
    "print(pX.display_in_X())\n",
    "print(sX.display_in_X())\n",
    "#to multiply sX with pX, this returns a new polynomial which is the product\n",
    "pX.mult(sX).display_in_X()\n"
   ]
  },
  {
   "cell_type": "code",
   "execution_count": 30,
   "metadata": {},
   "outputs": [
    {
     "data": {
      "text/plain": [
       "'X^3+2X+1'"
      ]
     },
     "execution_count": 30,
     "metadata": {},
     "output_type": "execute_result"
    }
   ],
   "source": [
    "#to divide pX with sX, this returns a list of coefficients for the quotient and remainder\n",
    "qX,rX = pX.divided_by(sX)\n",
    "\n",
    "#to check the result of the division\n",
    "qX.mult(sX).add(rX).display_in_X()"
   ]
  },
  {
   "cell_type": "code",
   "execution_count": 31,
   "metadata": {},
   "outputs": [
    {
     "name": "stdout",
     "output_type": "stream",
     "text": [
      "X^3+2X+1\n",
      "X+1\n",
      "1\n"
     ]
    },
    {
     "data": {
      "text/plain": [
       "'1'"
      ]
     },
     "execution_count": 31,
     "metadata": {},
     "output_type": "execute_result"
    }
   ],
   "source": [
    "print(pX.display_in_X())\n",
    "print(sX.display_in_X())\n",
    "#to compute the gcd, which is defined up to a unit (meaning here that you can multiply the \n",
    "#Bezout equality with 2 if you want the gcd to be 1)\n",
    "gcdX,aX,bX = pX.gcd_euclid(sX)\n",
    "print(gcdX.display_in_X())\n",
    "#to check that gcd(p,s) = a*p+b*s\n",
    "((aX.mult(pX)).add(bX.mult(sX))).display_in_X()"
   ]
  },
  {
   "cell_type": "code",
   "execution_count": 33,
   "metadata": {},
   "outputs": [
    {
     "name": "stdout",
     "output_type": "stream",
     "text": [
      "X^3+2X+1\n",
      "X^3+2X+1\n"
     ]
    },
    {
     "data": {
      "text/plain": [
       "'X^3+2X+1'"
      ]
     },
     "execution_count": 33,
     "metadata": {},
     "output_type": "execute_result"
    }
   ],
   "source": [
    "print(pX.display_in_X())\n",
    "#the gcd of something nonzero with something zero is by convention the something nonzero. \n",
    "#Trying gcd(0,0) gives an error.\n",
    "gcdX,aX,bX = pX.gcd_euclid(FFPoly(F5,[0]))\n",
    "print(gcdX.display_in_X())\n",
    "#to check that gcd(p,s) = a*p+b*s\n",
    "((aX.mult(pX)).add(bX.mult(sX))).display_in_X()"
   ]
  },
  {
   "cell_type": "code",
   "execution_count": 34,
   "metadata": {},
   "outputs": [
    {
     "name": "stdout",
     "output_type": "stream",
     "text": [
      "X^3+2X+1\n"
     ]
    },
    {
     "data": {
      "text/plain": [
       "True"
      ]
     },
     "execution_count": 34,
     "metadata": {},
     "output_type": "execute_result"
    }
   ],
   "source": [
    "print(pX.display_in_X())\n",
    "#checks for irreducibility over F5\n",
    "pX.is_irreducible()"
   ]
  },
  {
   "cell_type": "code",
   "execution_count": 35,
   "metadata": {},
   "outputs": [
    {
     "data": {
      "text/plain": [
       "'X^2+3X+2'"
      ]
     },
     "execution_count": 35,
     "metadata": {},
     "output_type": "execute_result"
    }
   ],
   "source": [
    "#generates a random polynomial of degree 2\n",
    "F5.randpoly(2).display_in_X()"
   ]
  },
  {
   "cell_type": "markdown",
   "metadata": {},
   "source": [
    "Examples over the finite field $\\mathbb{F}_9$\n",
    "--"
   ]
  },
  {
   "cell_type": "code",
   "execution_count": 36,
   "metadata": {},
   "outputs": [],
   "source": [
    "#creates the finite field\n",
    "F9 = FF(3,2)"
   ]
  },
  {
   "cell_type": "code",
   "execution_count": 37,
   "metadata": {},
   "outputs": [
    {
     "name": "stdout",
     "output_type": "stream",
     "text": [
      "3\n"
     ]
    }
   ],
   "source": [
    "#this is the characteristic\n",
    "print(F9.char)"
   ]
  },
  {
   "cell_type": "code",
   "execution_count": 38,
   "metadata": {},
   "outputs": [
    {
     "name": "stdout",
     "output_type": "stream",
     "text": [
      "3\n"
     ]
    }
   ],
   "source": [
    "#the ground field has size 3, it is thus F_3\n",
    "print(F9.ground_field.size)"
   ]
  },
  {
   "cell_type": "code",
   "execution_count": 39,
   "metadata": {},
   "outputs": [
    {
     "name": "stdout",
     "output_type": "stream",
     "text": [
      "2\n"
     ]
    }
   ],
   "source": [
    "#this is the dimension over the ground field\n",
    "print(F9.dim)"
   ]
  },
  {
   "cell_type": "code",
   "execution_count": 40,
   "metadata": {},
   "outputs": [
    {
     "name": "stdout",
     "output_type": "stream",
     "text": [
      "9\n"
     ]
    }
   ],
   "source": [
    "#this is the size\n",
    "print(F9.size)"
   ]
  },
  {
   "cell_type": "code",
   "execution_count": 41,
   "metadata": {},
   "outputs": [
    {
     "name": "stdout",
     "output_type": "stream",
     "text": [
      "X^2+X+2\n"
     ]
    }
   ],
   "source": [
    "#upon creation of F9, a minimum polynomial is generated \n",
    "# this displays the minimal polynomial\n",
    "print(F9.minimum_polynomial_in_X())"
   ]
  },
  {
   "cell_type": "code",
   "execution_count": 42,
   "metadata": {},
   "outputs": [
    {
     "name": "stdout",
     "output_type": "stream",
     "text": [
      "[2, 1]\n"
     ]
    }
   ],
   "source": [
    "#this is 2+7w in the basis {1,w} where w depends on the minimum polynomial\n",
    "print(F9.elt([2,7]))"
   ]
  },
  {
   "cell_type": "code",
   "execution_count": 44,
   "metadata": {},
   "outputs": [
    {
     "data": {
      "text/plain": [
       "'2+w'"
      ]
     },
     "execution_count": 44,
     "metadata": {},
     "output_type": "execute_result"
    }
   ],
   "source": [
    "#this is to see elements evaluated in the basis, the name of the basis is chosen, here 'w'\n",
    "F9.display_in(F9.elt([2,7]))"
   ]
  },
  {
   "cell_type": "code",
   "execution_count": 46,
   "metadata": {},
   "outputs": [
    {
     "data": {
      "text/plain": [
       "'1'"
      ]
     },
     "execution_count": 46,
     "metadata": {},
     "output_type": "execute_result"
    }
   ],
   "source": [
    "#adds 1+4w and 3+2w\n",
    "F9.display_in(F9.add([1,4],[3,2]))"
   ]
  },
  {
   "cell_type": "code",
   "execution_count": 47,
   "metadata": {},
   "outputs": [
    {
     "name": "stdout",
     "output_type": "stream",
     "text": [
      "X^2+X+2\n"
     ]
    },
    {
     "data": {
      "text/plain": [
       "'2'"
      ]
     },
     "execution_count": 47,
     "metadata": {},
     "output_type": "execute_result"
    }
   ],
   "source": [
    "print(F9.minimum_polynomial_in_X())\n",
    "#multiplies two elements, uses the minimum polynomial\n",
    "#as a result, it is best to generate one instance of F_9, if two instances are generated, the polynomials \n",
    "#may not be the same, this could give incoherences in the computation\n",
    "F9.display_in(F9.mult([1,1],[3,2]))"
   ]
  },
  {
   "cell_type": "code",
   "execution_count": 48,
   "metadata": {},
   "outputs": [
    {
     "name": "stdout",
     "output_type": "stream",
     "text": [
      "X^2+X+2\n",
      "X^2+1\n"
     ]
    }
   ],
   "source": [
    "print(F9.minimum_polynomial_in_X())\n",
    "#it is possible to change the minimum polynomial \n",
    "#(if X^2+1 was randomly generated, this could be tested with x^2+2X+2 instead)\n",
    "F3 = FF(3,1)\n",
    "F9.change_minimum_polynomial(FFPoly(F3,[1,0,1]))\n",
    "print(F9.minimum_polynomial_in_X())"
   ]
  },
  {
   "cell_type": "code",
   "execution_count": 49,
   "metadata": {},
   "outputs": [
    {
     "data": {
      "text/plain": [
       "'1+2w'"
      ]
     },
     "execution_count": 49,
     "metadata": {},
     "output_type": "execute_result"
    }
   ],
   "source": [
    "#multiplication now changes accordingly\n",
    "F9.display_in(F9.mult([1,1],[3,2]))"
   ]
  },
  {
   "cell_type": "code",
   "execution_count": 51,
   "metadata": {},
   "outputs": [
    {
     "name": "stdout",
     "output_type": "stream",
     "text": [
      "X^2+1\n"
     ]
    },
    {
     "data": {
      "text/plain": [
       "['1', 'w', '2', '2w', '1', 'w', '2', '2w']"
      ]
     },
     "execution_count": 51,
     "metadata": {},
     "output_type": "execute_result"
    }
   ],
   "source": [
    "#suppose we want to see if irreducible polynomial is primitive, \n",
    "#we use exponentiation to check whether w generates everything\n",
    "#here w is a variable, which is different from the string used for representation (there are \"the same\"\n",
    "#visually but while we can compute with w the variable, we cannot with the representation)\n",
    "print(F9.minimum_polynomial_in_X())\n",
    "w = F9.elt([0,1])\n",
    "[F9.display_in(F9.exp(w,i)) for i in range(8)]"
   ]
  },
  {
   "cell_type": "code",
   "execution_count": 52,
   "metadata": {},
   "outputs": [
    {
     "name": "stdout",
     "output_type": "stream",
     "text": [
      "X^2+1\n"
     ]
    },
    {
     "data": {
      "text/plain": [
       "['1', 'w', '2', '2w', '1', 'w', '2', '2w']"
      ]
     },
     "execution_count": 52,
     "metadata": {},
     "output_type": "execute_result"
    }
   ],
   "source": [
    "print(F9.minimum_polynomial_in_X())\n",
    "#it is also possible to just write a finite field element as a vector\n",
    "#it is understood as an element of F9\n",
    "w = [0,1]\n",
    "[F9.display_in(F9.exp(w,i)) for i in range(8)]"
   ]
  },
  {
   "cell_type": "code",
   "execution_count": 53,
   "metadata": {},
   "outputs": [
    {
     "name": "stdout",
     "output_type": "stream",
     "text": [
      "[0, 2]\n"
     ]
    },
    {
     "data": {
      "text/plain": [
       "[1, 0]"
      ]
     },
     "execution_count": 53,
     "metadata": {},
     "output_type": "execute_result"
    }
   ],
   "source": [
    "#F9 = FF(3,2)\n",
    "w = F9.elt([0,1])\n",
    "#we compute its inverse\n",
    "print(F9.inverse_modp(w))\n",
    "#we check it is the inverse\n",
    "F9.mult(F9.inverse_modp(w),w)"
   ]
  }
 ],
 "metadata": {
  "kernelspec": {
   "display_name": "Python 3",
   "language": "python",
   "name": "python3"
  },
  "language_info": {
   "codemirror_mode": {
    "name": "ipython",
    "version": 3
   },
   "file_extension": ".py",
   "mimetype": "text/x-python",
   "name": "python",
   "nbconvert_exporter": "python",
   "pygments_lexer": "ipython3",
   "version": "3.7.4"
  }
 },
 "nbformat": 4,
 "nbformat_minor": 2
}
