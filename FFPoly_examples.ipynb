{
 "cells": [
  {
   "cell_type": "markdown",
   "metadata": {},
   "source": [
    "Examples over the finite field $\\mathbb{F}_5$\n",
    "--\n",
    "Polynomials over $\\mathbb{F}_5$."
   ]
  },
  {
   "cell_type": "code",
   "execution_count": 1,
   "metadata": {},
   "outputs": [],
   "source": [
    "#import FF for finite fields and FFPoly for polynomials over finite fields\n",
    "from pyff import FF, FFPoly\n",
    "#creates the finite field\n",
    "F5 = FF(5,1)"
   ]
  },
  {
   "cell_type": "code",
   "execution_count": 2,
   "metadata": {},
   "outputs": [
    {
     "data": {
      "text/plain": [
       "'X^3+2X+1'"
      ]
     },
     "execution_count": 2,
     "metadata": {},
     "output_type": "execute_result"
    }
   ],
   "source": [
    "#creates the polynomial X^3+2X+1 over F5\n",
    "pX = FFPoly(F5,[1,0,2,1])\n",
    "#displays the polynomial in X\n",
    "pX.display_in_X()"
   ]
  },
  {
   "cell_type": "code",
   "execution_count": 3,
   "metadata": {},
   "outputs": [
    {
     "data": {
      "text/plain": [
       "[1, 0, 2, 1]"
      ]
     },
     "execution_count": 3,
     "metadata": {},
     "output_type": "execute_result"
    }
   ],
   "source": [
    "#to retrieve the coefficients of the polynomial in a list\n",
    "pX.coefficients"
   ]
  },
  {
   "cell_type": "code",
   "execution_count": 4,
   "metadata": {},
   "outputs": [
    {
     "name": "stdout",
     "output_type": "stream",
     "text": [
      "X^3+2X+1\n"
     ]
    },
    {
     "data": {
      "text/plain": [
       "3"
      ]
     },
     "execution_count": 4,
     "metadata": {},
     "output_type": "execute_result"
    }
   ],
   "source": [
    "print(pX.display_in_X())\n",
    "#degree of a polynomial\n",
    "pX.deg"
   ]
  },
  {
   "cell_type": "code",
   "execution_count": 5,
   "metadata": {},
   "outputs": [
    {
     "name": "stdout",
     "output_type": "stream",
     "text": [
      "X^3+2X+1\n"
     ]
    },
    {
     "data": {
      "text/plain": [
       "4"
      ]
     },
     "execution_count": 5,
     "metadata": {},
     "output_type": "execute_result"
    }
   ],
   "source": [
    "print(pX.display_in_X())\n",
    "#evaluates the polynomial in 3\n",
    "pX.evaluation(3)"
   ]
  },
  {
   "cell_type": "code",
   "execution_count": 6,
   "metadata": {},
   "outputs": [
    {
     "name": "stdout",
     "output_type": "stream",
     "text": [
      "X^3+2X+1\n"
     ]
    },
    {
     "data": {
      "text/plain": [
       "4"
      ]
     },
     "execution_count": 6,
     "metadata": {},
     "output_type": "execute_result"
    }
   ],
   "source": [
    "print(pX.display_in_X())\n",
    "#evaluates the polynomial, then add an element of F5\n",
    "F5.add(pX.evaluation(2),1)"
   ]
  },
  {
   "cell_type": "code",
   "execution_count": 7,
   "metadata": {},
   "outputs": [
    {
     "name": "stdout",
     "output_type": "stream",
     "text": [
      "X^3+2X+1\n"
     ]
    },
    {
     "data": {
      "text/plain": [
       "'3X^3+X+3'"
      ]
     },
     "execution_count": 7,
     "metadata": {},
     "output_type": "execute_result"
    }
   ],
   "source": [
    "print(pX.display_in_X())\n",
    "#multiplies p by 3\n",
    "pX.mult_by_scalar(3).display_in_X()"
   ]
  },
  {
   "cell_type": "code",
   "execution_count": 8,
   "metadata": {},
   "outputs": [
    {
     "name": "stdout",
     "output_type": "stream",
     "text": [
      "X^3+2X+1\n",
      "X+1\n"
     ]
    },
    {
     "data": {
      "text/plain": [
       "'X^3+3X+2'"
      ]
     },
     "execution_count": 8,
     "metadata": {},
     "output_type": "execute_result"
    }
   ],
   "source": [
    "print(pX.display_in_X())\n",
    "sX = FFPoly(F5,[1,1])\n",
    "print(sX.display_in_X())\n",
    "#to add sX to pX, this returns a polynomial\n",
    "tX = pX.add(sX)\n",
    "tX.display_in_X()"
   ]
  },
  {
   "cell_type": "code",
   "execution_count": 9,
   "metadata": {},
   "outputs": [
    {
     "name": "stdout",
     "output_type": "stream",
     "text": [
      "X^3+2X+1\n",
      "X+1\n"
     ]
    },
    {
     "data": {
      "text/plain": [
       "'X^3+X'"
      ]
     },
     "execution_count": 9,
     "metadata": {},
     "output_type": "execute_result"
    }
   ],
   "source": [
    "print(pX.display_in_X())\n",
    "print(sX.display_in_X())\n",
    "#to subtract sX to pX, this returns a polynomial\n",
    "pX.subtract(sX).display_in_X()"
   ]
  },
  {
   "cell_type": "code",
   "execution_count": 10,
   "metadata": {},
   "outputs": [
    {
     "name": "stdout",
     "output_type": "stream",
     "text": [
      "X^3+2X+1\n",
      "X+1\n"
     ]
    },
    {
     "data": {
      "text/plain": [
       "'X^4+X^3+2X^2+3X+1'"
      ]
     },
     "execution_count": 10,
     "metadata": {},
     "output_type": "execute_result"
    }
   ],
   "source": [
    "print(pX.display_in_X())\n",
    "print(sX.display_in_X())\n",
    "#to multiply sX with pX, this returns a new polynomial which is the product\n",
    "pX.mult(sX).display_in_X()"
   ]
  },
  {
   "cell_type": "code",
   "execution_count": 11,
   "metadata": {},
   "outputs": [
    {
     "data": {
      "text/plain": [
       "'X^3+2X+1'"
      ]
     },
     "execution_count": 11,
     "metadata": {},
     "output_type": "execute_result"
    }
   ],
   "source": [
    "#to divide pX with sX, this returns a list of coefficients for the quotient and remainder\n",
    "qX,rX = pX.divided_by(sX)\n",
    "\n",
    "#to check the result of the division\n",
    "qX.mult(sX).add(rX).display_in_X()"
   ]
  },
  {
   "cell_type": "code",
   "execution_count": 12,
   "metadata": {},
   "outputs": [
    {
     "name": "stdout",
     "output_type": "stream",
     "text": [
      "X^3+2X+1\n",
      "X+1\n",
      "1\n"
     ]
    },
    {
     "data": {
      "text/plain": [
       "'1'"
      ]
     },
     "execution_count": 12,
     "metadata": {},
     "output_type": "execute_result"
    }
   ],
   "source": [
    "print(pX.display_in_X())\n",
    "print(sX.display_in_X())\n",
    "#to compute the gcd, which is defined up to a unit but normalized so that the result is monic. \n",
    "gcdX,aX,bX = pX.gcd_euclid(sX)\n",
    "print(gcdX.display_in_X())\n",
    "#to check that gcd(p,s) = a*p+b*s\n",
    "((aX.mult(pX)).add(bX.mult(sX))).display_in_X()"
   ]
  },
  {
   "cell_type": "code",
   "execution_count": 13,
   "metadata": {},
   "outputs": [
    {
     "name": "stdout",
     "output_type": "stream",
     "text": [
      "X^3+2X+1\n",
      "X^3+2X+1\n"
     ]
    },
    {
     "data": {
      "text/plain": [
       "'X^3+2X+1'"
      ]
     },
     "execution_count": 13,
     "metadata": {},
     "output_type": "execute_result"
    }
   ],
   "source": [
    "print(pX.display_in_X())\n",
    "#the gcd of something nonzero with something zero is by convention the something nonzero. \n",
    "#Trying gcd(0,0) gives an error.\n",
    "gcdX,aX,bX = pX.gcd_euclid(FFPoly(F5,[0]))\n",
    "print(gcdX.display_in_X())\n",
    "#to check that gcd(p,s) = a*p+b*s\n",
    "((aX.mult(pX)).add(bX.mult(sX))).display_in_X()"
   ]
  },
  {
   "cell_type": "code",
   "execution_count": 14,
   "metadata": {},
   "outputs": [
    {
     "name": "stdout",
     "output_type": "stream",
     "text": [
      "X^3+2X+1\n"
     ]
    },
    {
     "data": {
      "text/plain": [
       "True"
      ]
     },
     "execution_count": 14,
     "metadata": {},
     "output_type": "execute_result"
    }
   ],
   "source": [
    "print(pX.display_in_X())\n",
    "#checks for irreducibility over F5\n",
    "pX.is_irreducible()"
   ]
  },
  {
   "cell_type": "code",
   "execution_count": 15,
   "metadata": {},
   "outputs": [
    {
     "data": {
      "text/plain": [
       "'3X^2+X+1'"
      ]
     },
     "execution_count": 15,
     "metadata": {},
     "output_type": "execute_result"
    }
   ],
   "source": [
    "#generates a random polynomial of degree 2\n",
    "F5.randpoly(2).display_in_X()"
   ]
  },
  {
   "cell_type": "markdown",
   "metadata": {},
   "source": [
    "Examples over the finite field $\\mathbb{F}_9$\n",
    "--\n",
    "Polynomials over $\\mathbb{F}_9$."
   ]
  },
  {
   "cell_type": "code",
   "execution_count": 12,
   "metadata": {},
   "outputs": [],
   "source": [
    "#import FF for finite fields and FFPoly for polynomials over finite fields\n",
    "from pyff import FF, FFPoly\n",
    "#creates the finite field\n",
    "F9 = FF(3,2)"
   ]
  },
  {
   "cell_type": "code",
   "execution_count": 13,
   "metadata": {},
   "outputs": [
    {
     "data": {
      "text/plain": [
       "'X^2+X+2'"
      ]
     },
     "execution_count": 13,
     "metadata": {},
     "output_type": "execute_result"
    }
   ],
   "source": [
    "#upon creation of F9, a minimum polynomial is generated \n",
    "# this displays the minimal polynomial\n",
    "F9.minimum_polynomial_in_X()"
   ]
  },
  {
   "cell_type": "code",
   "execution_count": 14,
   "metadata": {},
   "outputs": [
    {
     "data": {
      "text/plain": [
       "'X^3+wX+1'"
      ]
     },
     "execution_count": 14,
     "metadata": {},
     "output_type": "execute_result"
    }
   ],
   "source": [
    "#creates the polynomial X^3+wX+1 over F9\n",
    "pX = FFPoly(F9,[[1,0],[0,0],[0,1],[4,0]])\n",
    "pX.display_in_X()"
   ]
  },
  {
   "cell_type": "code",
   "execution_count": 15,
   "metadata": {},
   "outputs": [
    {
     "data": {
      "text/plain": [
       "'(2+2w)X^4+wX^3+2wX^2+(1+w)X+1'"
      ]
     },
     "execution_count": 15,
     "metadata": {},
     "output_type": "execute_result"
    }
   ],
   "source": [
    "#generates a random polynomial of degree 2\n",
    "F9.randpoly(4).display_in_X()"
   ]
  },
  {
   "cell_type": "code",
   "execution_count": 19,
   "metadata": {},
   "outputs": [
    {
     "data": {
      "text/plain": [
       "3"
      ]
     },
     "execution_count": 19,
     "metadata": {},
     "output_type": "execute_result"
    }
   ],
   "source": [
    "#checks its degree\n",
    "pX.deg"
   ]
  },
  {
   "cell_type": "code",
   "execution_count": 16,
   "metadata": {},
   "outputs": [
    {
     "name": "stdout",
     "output_type": "stream",
     "text": [
      "X^2+X+2\n",
      "X^3+wX+1\n"
     ]
    },
    {
     "data": {
      "text/plain": [
       "'wX^3+(1+2w)X+w'"
      ]
     },
     "execution_count": 16,
     "metadata": {},
     "output_type": "execute_result"
    }
   ],
   "source": [
    "print(F9.minimum_polynomial_in_X())\n",
    "#multiplies by the scalar [0,1]\n",
    "print(pX.display_in_X())\n",
    "pX.mult_by_scalar([0,1]).display_in_X()"
   ]
  },
  {
   "cell_type": "code",
   "execution_count": 17,
   "metadata": {},
   "outputs": [
    {
     "name": "stdout",
     "output_type": "stream",
     "text": [
      "X^3+wX+1\n",
      "X+(2+w)\n"
     ]
    },
    {
     "data": {
      "text/plain": [
       "'X^3+(1+w)X+w'"
      ]
     },
     "execution_count": 17,
     "metadata": {},
     "output_type": "execute_result"
    }
   ],
   "source": [
    "print(pX.display_in_X())\n",
    "#adds two polynomials\n",
    "sX = FFPoly(F9,[[1,0],[2,1]])\n",
    "print(sX.display_in_X())\n",
    "pX.add(sX).display_in_X()"
   ]
  },
  {
   "cell_type": "code",
   "execution_count": 18,
   "metadata": {},
   "outputs": [
    {
     "name": "stdout",
     "output_type": "stream",
     "text": [
      "X^2+X+2\n",
      "X^3+wX+1\n",
      "X+(2+w)\n"
     ]
    },
    {
     "data": {
      "text/plain": [
       "'X^4+(2+w)X^3+wX^2+(2+w)X+(2+w)'"
      ]
     },
     "execution_count": 18,
     "metadata": {},
     "output_type": "execute_result"
    }
   ],
   "source": [
    "print(F9.minimum_polynomial.display_in_X())\n",
    "print(pX.display_in_X())\n",
    "print(sX.display_in_X())\n",
    "#multiplies two polynomials\n",
    "pX.mult(sX).display_in_X()"
   ]
  },
  {
   "cell_type": "code",
   "execution_count": 19,
   "metadata": {},
   "outputs": [
    {
     "name": "stdout",
     "output_type": "stream",
     "text": [
      "X^2+X+2\n",
      "X^3+wX+1\n",
      "1\n"
     ]
    }
   ],
   "source": [
    "print(F9.minimum_polynomial_in_X())\n",
    "print(pX.display_in_X())\n",
    "#evaluates the polynomial in 3\n",
    "print(F9.display_in(pX.evaluation([3,0])))"
   ]
  },
  {
   "cell_type": "code",
   "execution_count": 20,
   "metadata": {},
   "outputs": [
    {
     "name": "stdout",
     "output_type": "stream",
     "text": [
      "X^2+(1+2w)X+(2+w)\n",
      "2\n"
     ]
    },
    {
     "data": {
      "text/plain": [
       "'X^3+wX+1'"
      ]
     },
     "execution_count": 20,
     "metadata": {},
     "output_type": "execute_result"
    }
   ],
   "source": [
    "#to divide pX with sX, this returns a list of coefficients for the quotient and remainder\n",
    "qX,rX = pX.divided_by(sX)\n",
    "print(qX.display_in_X())\n",
    "print(rX.display_in_X())\n",
    "\n",
    "#to check the result of the division\n",
    "qX.mult(sX).add(rX).display_in_X()"
   ]
  },
  {
   "cell_type": "code",
   "execution_count": 21,
   "metadata": {},
   "outputs": [
    {
     "data": {
      "text/plain": [
       "False"
      ]
     },
     "execution_count": 21,
     "metadata": {},
     "output_type": "execute_result"
    }
   ],
   "source": [
    "#check for irreducibility\n",
    "pX.is_irreducible()"
   ]
  },
  {
   "cell_type": "code",
   "execution_count": 22,
   "metadata": {},
   "outputs": [
    {
     "name": "stdout",
     "output_type": "stream",
     "text": [
      "X^2+X+2\n",
      "X^3+wX+1\n",
      "([1, 0], [2, 1])\n",
      "([0, 1], [1, 1])\n",
      "([1, 2], [2, 0])\n",
      "([2, 2], [0, 1])\n",
      "([2, 0], [0, 2])\n",
      "([0, 2], [1, 2])\n",
      "([2, 1], [0, 0])\n",
      "([1, 1], [2, 2])\n"
     ]
    }
   ],
   "source": [
    "print(F9.minimum_polynomial_in_X())\n",
    "print(pX.display_in_X())\n",
    "w = F9.primitive_elt()\n",
    "#so we look for a zero\n",
    "F9list = [F9.exp(w,i) for i in range(8)]\n",
    "for x in F9list:\n",
    "    print(x,pX.evaluation(x))"
   ]
  }
 ],
 "metadata": {
  "kernelspec": {
   "display_name": "Python 3",
   "language": "python",
   "name": "python3"
  },
  "language_info": {
   "codemirror_mode": {
    "name": "ipython",
    "version": 2
   },
   "file_extension": ".py",
   "mimetype": "text/x-python",
   "name": "python",
   "nbconvert_exporter": "python",
   "pygments_lexer": "ipython2",
   "version": "2.7.17"
  }
 },
 "nbformat": 4,
 "nbformat_minor": 2
}
